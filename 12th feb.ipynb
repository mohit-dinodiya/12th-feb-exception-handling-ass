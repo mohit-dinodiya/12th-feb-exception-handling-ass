{
 "cells": [
  {
   "cell_type": "markdown",
   "id": "941cf346-db04-4486-8e1f-bbcfaaa7a7f1",
   "metadata": {},
   "source": [
    "# what is exception in python?write the differnces between exception and syntax error?\n",
    "\n",
    "An exception in Python is an error that occurs during the execution of a program. When an exception occurs, the normal flow of a program is disrupted, and Python raises an exception object.\n",
    "\n",
    "SyntaxError is a specific type of exception that occurs when there is a syntax error in the program code. Syntax errors are errors in the syntax of the program, such as missing parentheses, commas, or quotation marks. These errors prevent the program from being executed by the Python interpreter.\n",
    "\n",
    "The main difference between exceptions and syntax errors is that exceptions occur during the execution of the program, while syntax errors occur before the program is executed. Syntax errors are detected by the Python interpreter when it tries to compile the program code before executing it. Exceptions, on the other hand, are raised during the execution of the program, when something unexpected happens, such as trying to divide by zero or accessing a variable that has not been defined.\n",
    "\n",
    "Another difference between exceptions and syntax errors is that syntax errors are typically easier to fix than exceptions. Syntax errors can be fixed by correcting the syntax of the program code, while exceptions require more careful analysis and debugging to identify the root cause of the problem and fix it.\n",
    "\n",
    "In summary, while syntax errors are a specific type of error that occurs before a program is executed due to incorrect syntax, exceptions are errors that occur during the execution of a program when something unexpected happens. Both are important types of errors that programmers need to be aware of and address in their Python code."
   ]
  },
  {
   "cell_type": "markdown",
   "id": "1527b648-c367-4449-9fe1-0d6695992016",
   "metadata": {},
   "source": [
    "# what happens when exception in python is not handled?explain with an example?\n",
    "\n",
    "When an exception in Python is not handled, it causes the program to terminate abruptly and display an error message to the user. This can be problematic, especially in production environments, as it can lead to unexpected behavior, data loss, or security issues.\n",
    "\n",
    "Here's an example that demonstrates what happens when an exception is not handled:"
   ]
  },
  {
   "cell_type": "code",
   "execution_count": 1,
   "id": "013ba4f4-0194-4b1e-896d-92cccb1dfd08",
   "metadata": {},
   "outputs": [
    {
     "ename": "ZeroDivisionError",
     "evalue": "division by zero",
     "output_type": "error",
     "traceback": [
      "\u001b[0;31m---------------------------------------------------------------------------\u001b[0m",
      "\u001b[0;31mZeroDivisionError\u001b[0m                         Traceback (most recent call last)",
      "Cell \u001b[0;32mIn[1], line 5\u001b[0m\n\u001b[1;32m      3\u001b[0m a \u001b[38;5;241m=\u001b[39m \u001b[38;5;241m10\u001b[39m\n\u001b[1;32m      4\u001b[0m b \u001b[38;5;241m=\u001b[39m \u001b[38;5;241m0\u001b[39m\n\u001b[0;32m----> 5\u001b[0m c \u001b[38;5;241m=\u001b[39m \u001b[43ma\u001b[49m\u001b[38;5;241;43m/\u001b[39;49m\u001b[43mb\u001b[49m\n\u001b[1;32m      6\u001b[0m \u001b[38;5;28mprint\u001b[39m(c)\n",
      "\u001b[0;31mZeroDivisionError\u001b[0m: division by zero"
     ]
    }
   ],
   "source": [
    "# Example code that raises an exception\n",
    "\n",
    "a = 10\n",
    "b = 0\n",
    "c = a/b\n",
    "print(c)\n"
   ]
  },
  {
   "cell_type": "markdown",
   "id": "ded09973-da4d-4eed-a4c4-432d68ed116c",
   "metadata": {},
   "source": [
    "To handle the exception, we can use a try-except block to catch the exception and handle it gracefully:"
   ]
  },
  {
   "cell_type": "code",
   "execution_count": 2,
   "id": "45b76f0c-a765-432b-938d-11ecf9b6acc7",
   "metadata": {},
   "outputs": [
    {
     "name": "stdout",
     "output_type": "stream",
     "text": [
      "Cannot divide by zero\n"
     ]
    }
   ],
   "source": [
    "# Example code that handles the exception\n",
    "\n",
    "a = 10\n",
    "b = 0\n",
    "try:\n",
    "    c = a/b\n",
    "except ZeroDivisionError:\n",
    "    print(\"Cannot divide by zero\")\n",
    "else:\n",
    "    print(c)\n"
   ]
  },
  {
   "cell_type": "markdown",
   "id": "a8e6ce4d-f392-4eb9-85ed-02049dc172a2",
   "metadata": {},
   "source": [
    "# Which python statements are used to catch and handle exception?explain with an example?\n",
    "\n",
    "In Python, the try-except statement is used to catch and handle exceptions. The try block contains the code that may raise an exception, and the except block contains the code that handles the exception if it occurs. Here's an example:\n",
    "\n",
    "\n",
    "# Example code that uses try-except to handle exceptions\n",
    "\n",
    "try:\n",
    "\n",
    "    a = int(input(\"Enter a number: \"))\n",
    "    b = int(input(\"Enter another number: \"))\n",
    "    c = a/b\n",
    "    print(c)\n",
    "    \n",
    "except ValueError:\n",
    "\n",
    "    print(\"Please enter a valid integer.\")\n",
    "    \n",
    "except ZeroDivisionError:\n",
    "    print(\"Cannot divide by zero.\")\n",
    "    \n",
    "else:\n",
    "\n",
    "    print(\"Division successful.\")\n"
   ]
  },
  {
   "cell_type": "markdown",
   "id": "d5817065-5c1c-4e3b-8cdd-fcd852c2cf94",
   "metadata": {},
   "source": [
    "# create a custom exception class ?use this class to handle an exception?\n",
    "\n"
   ]
  },
  {
   "cell_type": "code",
   "execution_count": 4,
   "id": "29dc140a-ffa4-4627-a6c6-9ad3a91b209c",
   "metadata": {},
   "outputs": [],
   "source": [
    "class validateage(Exception):\n",
    "    def __init__(self,msg):\n",
    "        self.msg = msg"
   ]
  },
  {
   "cell_type": "code",
   "execution_count": 5,
   "id": "041d3765-9621-4383-a31d-dfe86fa5bec3",
   "metadata": {},
   "outputs": [],
   "source": [
    "def validate_age(age):\n",
    "    if age < 0 :\n",
    "        raise validateage(\"age should not be lesser than zero\")\n",
    "    elif  age > 200 :\n",
    "        raise validateage(\"age is too high\")\n",
    "        \n",
    "    else :\n",
    "        print(\"age is valid\")\n",
    "        "
   ]
  },
  {
   "cell_type": "code",
   "execution_count": 8,
   "id": "be45cd4e-ce6f-4911-93cb-488bd49db7ca",
   "metadata": {},
   "outputs": [
    {
     "name": "stdin",
     "output_type": "stream",
     "text": [
      "enter your age: -2\n"
     ]
    },
    {
     "name": "stdout",
     "output_type": "stream",
     "text": [
      "age should not be lesser than zero\n"
     ]
    }
   ],
   "source": [
    "try:\n",
    "    age = int(input(\"enter your age:\"))\n",
    "    validate_age(age)\n",
    "except validateage as e :\n",
    "              print(e)"
   ]
  },
  {
   "cell_type": "markdown",
   "id": "3aa26742-f3b1-4093-950b-42be6e8980e0",
   "metadata": {},
   "source": [
    "# What are custom exception in pyrthon?why do we need custom exception?explain with an examples?\n",
    "\n",
    "In Python, we can create custom exceptions by defining a new class that inherits from the built-in Exception class. Custom exceptions are useful when we want to create our own error conditions that are specific to our application or module.\n",
    "\n",
    "We may need custom exceptions for a variety of reasons, such as:\n",
    "\n",
    "To provide more specific information about an error condition that occurs within our application or module\n",
    "To differentiate between different types of errors that may occur within our application or module\n",
    "To provide more user-friendly error messages for our application or module\n",
    "Here's an example of how to create a custom exception in Python:"
   ]
  },
  {
   "cell_type": "code",
   "execution_count": 13,
   "id": "63a9be8c-58b6-45f1-8edf-edb04ac5e415",
   "metadata": {},
   "outputs": [],
   "source": [
    "class MyCustomException(Exception):\n",
    "    pass\n"
   ]
  },
  {
   "cell_type": "markdown",
   "id": "17d55c3c-eba9-487c-aa00-9d2c269f1480",
   "metadata": {},
   "source": [
    "# explain with an example? try and else,finally,raise?\n",
    "\n"
   ]
  },
  {
   "cell_type": "code",
   "execution_count": 14,
   "id": "92e165cb-7acd-4393-948f-7707eaaa5da0",
   "metadata": {},
   "outputs": [
    {
     "name": "stdout",
     "output_type": "stream",
     "text": [
      "Division successful\n",
      "End of division\n",
      "Error: cannot divide by zero\n",
      "End of division\n",
      "Error: Invalid input\n"
     ]
    }
   ],
   "source": [
    "def divide_numbers(a, b):\n",
    "    try:\n",
    "        result = a / b\n",
    "    except ZeroDivisionError:\n",
    "        print(\"Error: cannot divide by zero\")\n",
    "        result = None\n",
    "    else:\n",
    "        print(\"Division successful\")\n",
    "    finally:\n",
    "        print(\"End of division\")\n",
    "\n",
    "    if result is None:\n",
    "        raise ValueError(\"Invalid input\")\n",
    "    else:\n",
    "        return result\n",
    "\n",
    "try:\n",
    "    divide_numbers(10, 2)\n",
    "    divide_numbers(10, 0)\n",
    "except ValueError as e:\n",
    "    print(\"Error:\", e)\n"
   ]
  },
  {
   "cell_type": "markdown",
   "id": "11f51458-9b76-4abf-96df-4c223c0f8806",
   "metadata": {},
   "source": [
    "In this example, we define a function called divide_numbers that takes two numbers as input and returns their division. We use a try-except block to catch the ZeroDivisionError that might occur if the second number is 0. If the division is successful, we print a message using the else statement. Regardless of whether an exception is caught or not, we always print an end-of-division message using the finally statement.\n",
    "\n",
    "After the finally block, we use an if-else statement to check whether the result variable is None. If it is, we raise a ValueError exception with a custom error message. If it's not, we return the result.\n",
    "\n",
    "We then call the divide_numbers function twice: once with valid input values, and once with a second input value of 0 to generate a ZeroDivisionError. We catch the ValueError exception that may be raised if the result is None.\n",
    "\n",
    "This example demonstrates how to handle exceptions using try-except blocks, as well as how to use the else and finally statements to provide additional functionality. It also shows how to raise custom exceptions using the raise statement."
   ]
  },
  {
   "cell_type": "code",
   "execution_count": null,
   "id": "5662b09e-eec9-4440-ae55-af49d5e34517",
   "metadata": {},
   "outputs": [],
   "source": []
  }
 ],
 "metadata": {
  "kernelspec": {
   "display_name": "Python 3 (ipykernel)",
   "language": "python",
   "name": "python3"
  },
  "language_info": {
   "codemirror_mode": {
    "name": "ipython",
    "version": 3
   },
   "file_extension": ".py",
   "mimetype": "text/x-python",
   "name": "python",
   "nbconvert_exporter": "python",
   "pygments_lexer": "ipython3",
   "version": "3.10.8"
  }
 },
 "nbformat": 4,
 "nbformat_minor": 5
}
